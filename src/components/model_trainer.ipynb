{
 "cells": [
  {
   "cell_type": "code",
   "execution_count": 6,
   "id": "7d495d8f",
   "metadata": {},
   "outputs": [
    {
     "ename": "ModuleNotFoundError",
     "evalue": "No module named 'src'",
     "output_type": "error",
     "traceback": [
      "\u001b[0;31m---------------------------------------------------------------------------\u001b[0m",
      "\u001b[0;31mModuleNotFoundError\u001b[0m                       Traceback (most recent call last)",
      "\u001b[0;32m/var/folders/vk/dv_n2gkn4lg079c2663xnlv00000gn/T/ipykernel_1787/3978671206.py\u001b[0m in \u001b[0;36m<module>\u001b[0;34m\u001b[0m\n\u001b[1;32m      4\u001b[0m \u001b[0;32mfrom\u001b[0m \u001b[0msklearn\u001b[0m\u001b[0;34m.\u001b[0m\u001b[0mlinear_model\u001b[0m \u001b[0;32mimport\u001b[0m \u001b[0mLinearRegression\u001b[0m\u001b[0;34m\u001b[0m\u001b[0;34m\u001b[0m\u001b[0m\n\u001b[1;32m      5\u001b[0m \u001b[0;32mimport\u001b[0m \u001b[0mpickle\u001b[0m\u001b[0;34m\u001b[0m\u001b[0;34m\u001b[0m\u001b[0m\n\u001b[0;32m----> 6\u001b[0;31m \u001b[0;32mfrom\u001b[0m \u001b[0msrc\u001b[0m\u001b[0;34m.\u001b[0m\u001b[0mexception\u001b[0m \u001b[0;32mimport\u001b[0m \u001b[0mCustomException\u001b[0m\u001b[0;34m\u001b[0m\u001b[0;34m\u001b[0m\u001b[0m\n\u001b[0m\u001b[1;32m      7\u001b[0m \u001b[0;32mfrom\u001b[0m \u001b[0msrc\u001b[0m\u001b[0;34m.\u001b[0m\u001b[0mlogger\u001b[0m \u001b[0;32mimport\u001b[0m \u001b[0mlogging\u001b[0m\u001b[0;34m\u001b[0m\u001b[0;34m\u001b[0m\u001b[0m\n\u001b[1;32m      8\u001b[0m \u001b[0;32mfrom\u001b[0m \u001b[0msrc\u001b[0m\u001b[0;34m.\u001b[0m\u001b[0mcomponents\u001b[0m\u001b[0;34m.\u001b[0m\u001b[0mdata_transformation\u001b[0m \u001b[0;32mimport\u001b[0m \u001b[0mDataTransformationConfig\u001b[0m\u001b[0;34m,\u001b[0m\u001b[0mDataTransformation\u001b[0m\u001b[0;34m\u001b[0m\u001b[0;34m\u001b[0m\u001b[0m\n",
      "\u001b[0;31mModuleNotFoundError\u001b[0m: No module named 'src'"
     ]
    }
   ],
   "source": [
    "import os\n",
    "import sys\n",
    "from dataclasses import dataclass\n",
    "from sklearn.linear_model import LinearRegression\n",
    "import pickle\n",
    "from src.exception import CustomException\n",
    "from src.logger import logging\n",
    "from src.components.data_transformation import DataTransformationConfig,DataTransformation\n",
    "from src.components.data_ingestion import DataIngestionConfig,DataIngestion\n"
   ]
  },
  {
   "cell_type": "code",
   "execution_count": 2,
   "id": "c10e63c3",
   "metadata": {},
   "outputs": [],
   "source": [
    "@dataclass\n",
    "class ModelTrainerConfig:\n",
    "    model_trainer_file_path=os.path.join(\"artifacts\",\"model.pkl\")"
   ]
  },
  {
   "cell_type": "code",
   "execution_count": 4,
   "id": "f6c0869a",
   "metadata": {},
   "outputs": [],
   "source": [
    "class ModelTrain:\n",
    "    def __init__(self):\n",
    "        self.model_trainer_config=ModelTrainerConfig()\n",
    "        \n",
    "        \n",
    "        \n",
    "    def train(self,train_path):\n",
    "        try:\n",
    "            target_column='math_score'\n",
    "            df=pd.read_csv(train_path)\n",
    "            \n",
    "        \n",
    "            X_train=df.drop(columns=[target_column],axis=1)\n",
    "            preprocessor_obj=DataTransformation().get_data_transformation_obj\n",
    "            \n",
    "            X_train=preprocessor_obj.fit_transform(X_train)\n",
    "            \n",
    "            y_train=df[target_column]\n",
    "            \n",
    "            \n",
    "            \n",
    "            LR=LinearRegression()\n",
    "            LR.fit(X_train,y_train)\n",
    "            logging.info(\"LR model has been trained successfully\")\n",
    "\n",
    "            save_obj(\n",
    "            file_path=self.model_trainer_config.model_trainer_file_path,\n",
    "            obj=LR\n",
    "            )\n",
    "\n",
    "            logging.info(\"model has been saved successfully\")\n",
    "            \n",
    "        except Exception as e:\n",
    "            raise CustomException(e,sys)\n",
    "        \n",
    "        \n",
    "        \n",
    "        \n",
    "    "
   ]
  },
  {
   "cell_type": "code",
   "execution_count": null,
   "id": "bc8ac284",
   "metadata": {},
   "outputs": [],
   "source": [
    "if __name__==\"__main__\":\n",
    "    obj=DataIngestion()\n",
    "    train_path,test_path=obj.initiate_data_ingestion()\n",
    "    \n",
    "    dt=DataTransformation()\n",
    "    train_data,_,_=dt.initiate_data_transformation(train_path,test_path)\n",
    "    \n",
    "    mt=ModelTrain()\n",
    "    mt.train(train_path)\n",
    "    "
   ]
  }
 ],
 "metadata": {
  "kernelspec": {
   "display_name": "Python 3 (ipykernel)",
   "language": "python",
   "name": "python3"
  },
  "language_info": {
   "codemirror_mode": {
    "name": "ipython",
    "version": 3
   },
   "file_extension": ".py",
   "mimetype": "text/x-python",
   "name": "python",
   "nbconvert_exporter": "python",
   "pygments_lexer": "ipython3",
   "version": "3.9.7"
  }
 },
 "nbformat": 4,
 "nbformat_minor": 5
}
